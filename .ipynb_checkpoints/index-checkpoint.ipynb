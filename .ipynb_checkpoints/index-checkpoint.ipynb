{
 "cells": [
  {
   "cell_type": "markdown",
   "metadata": {},
   "source": [
    "# Train Test Split <a id=\"toc\"></a>\n",
    "\n",
    "Thus far we've simply been fitting models to data and calculating the error between various models and the actual data. This can lead to various problems such as overfitting where we overtune our models to these specific data points and fail to disern more generalizable patterns that will apply to future cases. \n",
    "\n",
    "Let's look at a few examples of how we could modify some of our algorithms to overfit data:\n",
    "\n",
    "### Introduction  \n",
    "\n",
    "Now that you've seen some basic linear regression models it's time to discuss further how to better tune these models. As you saw, we usually begin with an error or loss function for which we'll apply an optimization algorithm such as gradient descent. We then apply this optimization algorithm to the error function we're trying to minimize and voila, we have an optimized solution! Unfortunately, things aren't quite that simple. \n",
    "\n",
    "### Overfitting and Underfitting\n",
    "Most importantly is the issue of generalization.\n",
    "This is often examined by discussing underfitting and overfitting.\n",
    "![](./images/overfit_underfit.png)\n",
    "\n",
    "Recall our main goal when performing regression: we're attempting to find relationships that can generalize to new cases. Generally, the more data that we have the better off we'll be as we can observe more patterns and relationships within that data. However, some of these patterns and relationships may not generalize well to other cases. "
   ]
  },
  {
   "cell_type": "markdown",
   "metadata": {},
   "source": [
    "## Let's intentionally overfit some data to see this in demonstration.\n",
    "\n",
    "### 1. Import the data and define X and Y."
   ]
  },
  {
   "cell_type": "code",
   "execution_count": 3,
   "metadata": {},
   "outputs": [],
   "source": [
    "#Import the Data here.\n",
    "import pandas as pd\n",
    "path = './data/' #The subdirectory where the file is stored\n",
    "filename = 'movie_data_detailed.xlsx' #The filename\n",
    "full_path = path + filename #Alternative shortcut\n",
    "\n",
    "df = pd.read_excel(full_path)\n",
    "\n",
    "#Subset the Data into appropriate X and Y features. (X should be multiple features!)\n",
    "# X = #Your code here\n",
    "# Y = #Your code here"
   ]
  },
  {
   "cell_type": "code",
   "execution_count": 4,
   "metadata": {},
   "outputs": [
    {
     "data": {
      "text/html": [
       "<div>\n",
       "<style scoped>\n",
       "    .dataframe tbody tr th:only-of-type {\n",
       "        vertical-align: middle;\n",
       "    }\n",
       "\n",
       "    .dataframe tbody tr th {\n",
       "        vertical-align: top;\n",
       "    }\n",
       "\n",
       "    .dataframe thead th {\n",
       "        text-align: right;\n",
       "    }\n",
       "</style>\n",
       "<table border=\"1\" class=\"dataframe\">\n",
       "  <thead>\n",
       "    <tr style=\"text-align: right;\">\n",
       "      <th></th>\n",
       "      <th>budget</th>\n",
       "      <th>domgross</th>\n",
       "      <th>title</th>\n",
       "      <th>Response_Json</th>\n",
       "      <th>Year</th>\n",
       "      <th>imdbRating</th>\n",
       "      <th>Metascore</th>\n",
       "      <th>imdbVotes</th>\n",
       "    </tr>\n",
       "  </thead>\n",
       "  <tbody>\n",
       "    <tr>\n",
       "      <th>0</th>\n",
       "      <td>13000000</td>\n",
       "      <td>25682380</td>\n",
       "      <td>21 &amp;amp; Over</td>\n",
       "      <td>NaN</td>\n",
       "      <td>2008.0</td>\n",
       "      <td>6.8</td>\n",
       "      <td>48.0</td>\n",
       "      <td>206513.0</td>\n",
       "    </tr>\n",
       "    <tr>\n",
       "      <th>1</th>\n",
       "      <td>45658735</td>\n",
       "      <td>13414714</td>\n",
       "      <td>Dredd 3D</td>\n",
       "      <td>NaN</td>\n",
       "      <td>2012.0</td>\n",
       "      <td>NaN</td>\n",
       "      <td>NaN</td>\n",
       "      <td>NaN</td>\n",
       "    </tr>\n",
       "    <tr>\n",
       "      <th>2</th>\n",
       "      <td>20000000</td>\n",
       "      <td>53107035</td>\n",
       "      <td>12 Years a Slave</td>\n",
       "      <td>NaN</td>\n",
       "      <td>2013.0</td>\n",
       "      <td>8.1</td>\n",
       "      <td>96.0</td>\n",
       "      <td>537525.0</td>\n",
       "    </tr>\n",
       "    <tr>\n",
       "      <th>3</th>\n",
       "      <td>61000000</td>\n",
       "      <td>75612460</td>\n",
       "      <td>2 Guns</td>\n",
       "      <td>NaN</td>\n",
       "      <td>2013.0</td>\n",
       "      <td>6.7</td>\n",
       "      <td>55.0</td>\n",
       "      <td>173726.0</td>\n",
       "    </tr>\n",
       "    <tr>\n",
       "      <th>4</th>\n",
       "      <td>40000000</td>\n",
       "      <td>95020213</td>\n",
       "      <td>42</td>\n",
       "      <td>NaN</td>\n",
       "      <td>2013.0</td>\n",
       "      <td>7.5</td>\n",
       "      <td>62.0</td>\n",
       "      <td>74170.0</td>\n",
       "    </tr>\n",
       "  </tbody>\n",
       "</table>\n",
       "</div>"
      ],
      "text/plain": [
       "     budget  domgross             title  Response_Json    Year  imdbRating  \\\n",
       "0  13000000  25682380     21 &amp; Over            NaN  2008.0         6.8   \n",
       "1  45658735  13414714          Dredd 3D            NaN  2012.0         NaN   \n",
       "2  20000000  53107035  12 Years a Slave            NaN  2013.0         8.1   \n",
       "3  61000000  75612460            2 Guns            NaN  2013.0         6.7   \n",
       "4  40000000  95020213                42            NaN  2013.0         7.5   \n",
       "\n",
       "   Metascore  imdbVotes  \n",
       "0       48.0   206513.0  \n",
       "1        NaN        NaN  \n",
       "2       96.0   537525.0  \n",
       "3       55.0   173726.0  \n",
       "4       62.0    74170.0  "
      ]
     },
     "execution_count": 4,
     "metadata": {},
     "output_type": "execute_result"
    }
   ],
   "source": [
    "df.head()"
   ]
  },
  {
   "cell_type": "code",
   "execution_count": 11,
   "metadata": {},
   "outputs": [],
   "source": [
    "df['budget'] = df['budget']/1000000\n",
    "df['domgross'] = df['domgross']/1000000\n"
   ]
  },
  {
   "cell_type": "code",
   "execution_count": 12,
   "metadata": {},
   "outputs": [],
   "source": [
    "y = df.domgross\n",
    "X = df[['budget', 'imdbRating', 'Metascore', 'imdbVotes']]"
   ]
  },
  {
   "cell_type": "markdown",
   "metadata": {},
   "source": [
    "### 2. For each feature in X, create several new columns that are powers of that feature. For example, you could take the $budget$ column and produce another column $budget**2$, a third column $budget**3$, a fourth column $budget**4$ and so on. Do this until you have more columns then rows."
   ]
  },
  {
   "cell_type": "code",
   "execution_count": 13,
   "metadata": {},
   "outputs": [
    {
     "name": "stdout",
     "output_type": "stream",
     "text": [
      "4 32 30 Index(['budget', 'imdbRating', 'Metascore', 'imdbVotes', 'budget^2',\n",
      "       'budget^3', 'budget^4', 'budget^5', 'budget^6', 'budget^7', 'budget^8',\n",
      "       'imdbRating^2', 'imdbRating^3', 'imdbRating^4', 'imdbRating^5',\n",
      "       'imdbRating^6', 'imdbRating^7', 'imdbRating^8', 'Metascore^2',\n",
      "       'Metascore^3', 'Metascore^4', 'Metascore^5', 'Metascore^6',\n",
      "       'Metascore^7', 'Metascore^8', 'imdbVotes^2', 'imdbVotes^3',\n",
      "       'imdbVotes^4', 'imdbVotes^5', 'imdbVotes^6', 'imdbVotes^7',\n",
      "       'imdbVotes^8'],\n",
      "      dtype='object')\n"
     ]
    },
    {
     "name": "stderr",
     "output_type": "stream",
     "text": [
      "/anaconda3/lib/python3.6/site-packages/ipykernel_launcher.py:4: SettingWithCopyWarning: \n",
      "A value is trying to be set on a copy of a slice from a DataFrame.\n",
      "Try using .loc[row_indexer,col_indexer] = value instead\n",
      "\n",
      "See the caveats in the documentation: http://pandas.pydata.org/pandas-docs/stable/indexing.html#indexing-view-versus-copy\n",
      "  after removing the cwd from sys.path.\n"
     ]
    },
    {
     "data": {
      "text/html": [
       "<div>\n",
       "<style scoped>\n",
       "    .dataframe tbody tr th:only-of-type {\n",
       "        vertical-align: middle;\n",
       "    }\n",
       "\n",
       "    .dataframe tbody tr th {\n",
       "        vertical-align: top;\n",
       "    }\n",
       "\n",
       "    .dataframe thead th {\n",
       "        text-align: right;\n",
       "    }\n",
       "</style>\n",
       "<table border=\"1\" class=\"dataframe\">\n",
       "  <thead>\n",
       "    <tr style=\"text-align: right;\">\n",
       "      <th></th>\n",
       "      <th>budget</th>\n",
       "      <th>imdbRating</th>\n",
       "      <th>Metascore</th>\n",
       "      <th>imdbVotes</th>\n",
       "      <th>budget^2</th>\n",
       "      <th>budget^3</th>\n",
       "      <th>budget^4</th>\n",
       "      <th>budget^5</th>\n",
       "      <th>budget^6</th>\n",
       "      <th>budget^7</th>\n",
       "      <th>...</th>\n",
       "      <th>Metascore^6</th>\n",
       "      <th>Metascore^7</th>\n",
       "      <th>Metascore^8</th>\n",
       "      <th>imdbVotes^2</th>\n",
       "      <th>imdbVotes^3</th>\n",
       "      <th>imdbVotes^4</th>\n",
       "      <th>imdbVotes^5</th>\n",
       "      <th>imdbVotes^6</th>\n",
       "      <th>imdbVotes^7</th>\n",
       "      <th>imdbVotes^8</th>\n",
       "    </tr>\n",
       "  </thead>\n",
       "  <tbody>\n",
       "    <tr>\n",
       "      <th>0</th>\n",
       "      <td>13.000000</td>\n",
       "      <td>6.8</td>\n",
       "      <td>48.0</td>\n",
       "      <td>206513.0</td>\n",
       "      <td>169.000000</td>\n",
       "      <td>2197.000000</td>\n",
       "      <td>2.856100e+04</td>\n",
       "      <td>3.712930e+05</td>\n",
       "      <td>4.826809e+06</td>\n",
       "      <td>6.274852e+07</td>\n",
       "      <td>...</td>\n",
       "      <td>1.223059e+10</td>\n",
       "      <td>5.870683e+11</td>\n",
       "      <td>2.817928e+13</td>\n",
       "      <td>4.264762e+10</td>\n",
       "      <td>8.807288e+15</td>\n",
       "      <td>1.818819e+21</td>\n",
       "      <td>3.756099e+26</td>\n",
       "      <td>7.756832e+31</td>\n",
       "      <td>1.601887e+37</td>\n",
       "      <td>3.308104e+42</td>\n",
       "    </tr>\n",
       "    <tr>\n",
       "      <th>1</th>\n",
       "      <td>45.658735</td>\n",
       "      <td>NaN</td>\n",
       "      <td>NaN</td>\n",
       "      <td>NaN</td>\n",
       "      <td>2084.720082</td>\n",
       "      <td>95185.681764</td>\n",
       "      <td>4.346058e+06</td>\n",
       "      <td>1.984355e+08</td>\n",
       "      <td>9.060314e+09</td>\n",
       "      <td>4.136825e+11</td>\n",
       "      <td>...</td>\n",
       "      <td>NaN</td>\n",
       "      <td>NaN</td>\n",
       "      <td>NaN</td>\n",
       "      <td>NaN</td>\n",
       "      <td>NaN</td>\n",
       "      <td>NaN</td>\n",
       "      <td>NaN</td>\n",
       "      <td>NaN</td>\n",
       "      <td>NaN</td>\n",
       "      <td>NaN</td>\n",
       "    </tr>\n",
       "    <tr>\n",
       "      <th>2</th>\n",
       "      <td>20.000000</td>\n",
       "      <td>8.1</td>\n",
       "      <td>96.0</td>\n",
       "      <td>537525.0</td>\n",
       "      <td>400.000000</td>\n",
       "      <td>8000.000000</td>\n",
       "      <td>1.600000e+05</td>\n",
       "      <td>3.200000e+06</td>\n",
       "      <td>6.400000e+07</td>\n",
       "      <td>1.280000e+09</td>\n",
       "      <td>...</td>\n",
       "      <td>7.827578e+11</td>\n",
       "      <td>7.514475e+13</td>\n",
       "      <td>7.213896e+15</td>\n",
       "      <td>2.889331e+11</td>\n",
       "      <td>1.553088e+17</td>\n",
       "      <td>8.348235e+22</td>\n",
       "      <td>4.487385e+28</td>\n",
       "      <td>2.412082e+34</td>\n",
       "      <td>1.296554e+40</td>\n",
       "      <td>6.969303e+45</td>\n",
       "    </tr>\n",
       "    <tr>\n",
       "      <th>3</th>\n",
       "      <td>61.000000</td>\n",
       "      <td>6.7</td>\n",
       "      <td>55.0</td>\n",
       "      <td>173726.0</td>\n",
       "      <td>3721.000000</td>\n",
       "      <td>226981.000000</td>\n",
       "      <td>1.384584e+07</td>\n",
       "      <td>8.445963e+08</td>\n",
       "      <td>5.152037e+10</td>\n",
       "      <td>3.142743e+12</td>\n",
       "      <td>...</td>\n",
       "      <td>2.768064e+10</td>\n",
       "      <td>1.522435e+12</td>\n",
       "      <td>8.373394e+13</td>\n",
       "      <td>3.018072e+10</td>\n",
       "      <td>5.243176e+15</td>\n",
       "      <td>9.108760e+20</td>\n",
       "      <td>1.582429e+26</td>\n",
       "      <td>2.749090e+31</td>\n",
       "      <td>4.775884e+36</td>\n",
       "      <td>8.296952e+41</td>\n",
       "    </tr>\n",
       "    <tr>\n",
       "      <th>4</th>\n",
       "      <td>40.000000</td>\n",
       "      <td>7.5</td>\n",
       "      <td>62.0</td>\n",
       "      <td>74170.0</td>\n",
       "      <td>1600.000000</td>\n",
       "      <td>64000.000000</td>\n",
       "      <td>2.560000e+06</td>\n",
       "      <td>1.024000e+08</td>\n",
       "      <td>4.096000e+09</td>\n",
       "      <td>1.638400e+11</td>\n",
       "      <td>...</td>\n",
       "      <td>5.680024e+10</td>\n",
       "      <td>3.521615e+12</td>\n",
       "      <td>2.183401e+14</td>\n",
       "      <td>5.501189e+09</td>\n",
       "      <td>4.080232e+14</td>\n",
       "      <td>3.026308e+19</td>\n",
       "      <td>2.244613e+24</td>\n",
       "      <td>1.664829e+29</td>\n",
       "      <td>1.234804e+34</td>\n",
       "      <td>9.158540e+38</td>\n",
       "    </tr>\n",
       "  </tbody>\n",
       "</table>\n",
       "<p>5 rows × 32 columns</p>\n",
       "</div>"
      ],
      "text/plain": [
       "      budget  imdbRating  Metascore  imdbVotes     budget^2       budget^3  \\\n",
       "0  13.000000         6.8       48.0   206513.0   169.000000    2197.000000   \n",
       "1  45.658735         NaN        NaN        NaN  2084.720082   95185.681764   \n",
       "2  20.000000         8.1       96.0   537525.0   400.000000    8000.000000   \n",
       "3  61.000000         6.7       55.0   173726.0  3721.000000  226981.000000   \n",
       "4  40.000000         7.5       62.0    74170.0  1600.000000   64000.000000   \n",
       "\n",
       "       budget^4      budget^5      budget^6      budget^7      ...       \\\n",
       "0  2.856100e+04  3.712930e+05  4.826809e+06  6.274852e+07      ...        \n",
       "1  4.346058e+06  1.984355e+08  9.060314e+09  4.136825e+11      ...        \n",
       "2  1.600000e+05  3.200000e+06  6.400000e+07  1.280000e+09      ...        \n",
       "3  1.384584e+07  8.445963e+08  5.152037e+10  3.142743e+12      ...        \n",
       "4  2.560000e+06  1.024000e+08  4.096000e+09  1.638400e+11      ...        \n",
       "\n",
       "    Metascore^6   Metascore^7   Metascore^8   imdbVotes^2   imdbVotes^3  \\\n",
       "0  1.223059e+10  5.870683e+11  2.817928e+13  4.264762e+10  8.807288e+15   \n",
       "1           NaN           NaN           NaN           NaN           NaN   \n",
       "2  7.827578e+11  7.514475e+13  7.213896e+15  2.889331e+11  1.553088e+17   \n",
       "3  2.768064e+10  1.522435e+12  8.373394e+13  3.018072e+10  5.243176e+15   \n",
       "4  5.680024e+10  3.521615e+12  2.183401e+14  5.501189e+09  4.080232e+14   \n",
       "\n",
       "    imdbVotes^4   imdbVotes^5   imdbVotes^6   imdbVotes^7   imdbVotes^8  \n",
       "0  1.818819e+21  3.756099e+26  7.756832e+31  1.601887e+37  3.308104e+42  \n",
       "1           NaN           NaN           NaN           NaN           NaN  \n",
       "2  8.348235e+22  4.487385e+28  2.412082e+34  1.296554e+40  6.969303e+45  \n",
       "3  9.108760e+20  1.582429e+26  2.749090e+31  4.775884e+36  8.296952e+41  \n",
       "4  3.026308e+19  2.244613e+24  1.664829e+29  1.234804e+34  9.158540e+38  \n",
       "\n",
       "[5 rows x 32 columns]"
      ]
     },
     "execution_count": 13,
     "metadata": {},
     "output_type": "execute_result"
    }
   ],
   "source": [
    "orig_columns = X.columns\n",
    "for feat in orig_columns:\n",
    "    for i in range(2,9):\n",
    "        X['{}^{}'.format(feat, i)] = X[feat].map(lambda x: x**i)\n",
    "print(len(orig_columns), len(X.columns), len(X), X.columns)\n",
    "X.head()"
   ]
  },
  {
   "cell_type": "markdown",
   "metadata": {},
   "source": [
    "### 3. Use all of your new features for X. Then train a regression model using RSS as your error function and gradient descent to tune your weights. "
   ]
  },
  {
   "cell_type": "code",
   "execution_count": 17,
   "metadata": {},
   "outputs": [],
   "source": [
    "# normilization\n",
    "def norm(col):\n",
    "    minimum = col.min()\n",
    "    maximum = col.max()\n",
    "    return (col-maximum)/(maximum-minimum)\n"
   ]
  },
  {
   "cell_type": "code",
   "execution_count": 21,
   "metadata": {},
   "outputs": [],
   "source": [
    "for col in X.columns: #loop through our x columns to normalize each column\n",
    "    X[col] = norm(X[col])\n",
    "\n",
    "# X.head()\n",
    "X = X.fillna(value=0)"
   ]
  },
  {
   "cell_type": "code",
   "execution_count": 22,
   "metadata": {},
   "outputs": [
    {
     "data": {
      "text/html": [
       "<div>\n",
       "<style scoped>\n",
       "    .dataframe tbody tr th:only-of-type {\n",
       "        vertical-align: middle;\n",
       "    }\n",
       "\n",
       "    .dataframe tbody tr th {\n",
       "        vertical-align: top;\n",
       "    }\n",
       "\n",
       "    .dataframe thead th {\n",
       "        text-align: right;\n",
       "    }\n",
       "</style>\n",
       "<table border=\"1\" class=\"dataframe\">\n",
       "  <thead>\n",
       "    <tr style=\"text-align: right;\">\n",
       "      <th></th>\n",
       "      <th>budget</th>\n",
       "      <th>imdbRating</th>\n",
       "      <th>Metascore</th>\n",
       "      <th>imdbVotes</th>\n",
       "      <th>budget^2</th>\n",
       "      <th>budget^3</th>\n",
       "      <th>budget^4</th>\n",
       "      <th>budget^5</th>\n",
       "      <th>budget^6</th>\n",
       "      <th>budget^7</th>\n",
       "      <th>...</th>\n",
       "      <th>Metascore^6</th>\n",
       "      <th>Metascore^7</th>\n",
       "      <th>Metascore^8</th>\n",
       "      <th>imdbVotes^2</th>\n",
       "      <th>imdbVotes^3</th>\n",
       "      <th>imdbVotes^4</th>\n",
       "      <th>imdbVotes^5</th>\n",
       "      <th>imdbVotes^6</th>\n",
       "      <th>imdbVotes^7</th>\n",
       "      <th>imdbVotes^8</th>\n",
       "    </tr>\n",
       "  </thead>\n",
       "  <tbody>\n",
       "    <tr>\n",
       "      <th>0</th>\n",
       "      <td>-0.965831</td>\n",
       "      <td>-0.40625</td>\n",
       "      <td>-0.705882</td>\n",
       "      <td>-0.642623</td>\n",
       "      <td>-0.997258</td>\n",
       "      <td>-0.999822</td>\n",
       "      <td>-0.999989</td>\n",
       "      <td>-0.999999</td>\n",
       "      <td>-1.000000</td>\n",
       "      <td>-1.000000</td>\n",
       "      <td>...</td>\n",
       "      <td>-0.984981</td>\n",
       "      <td>-0.992366</td>\n",
       "      <td>-0.996146</td>\n",
       "      <td>-0.853883</td>\n",
       "      <td>-0.943360</td>\n",
       "      <td>-0.978216</td>\n",
       "      <td>-0.991630</td>\n",
       "      <td>-0.996784</td>\n",
       "      <td>-0.998765</td>\n",
       "      <td>-0.999525</td>\n",
       "    </tr>\n",
       "    <tr>\n",
       "      <th>1</th>\n",
       "      <td>-0.817044</td>\n",
       "      <td>0.00000</td>\n",
       "      <td>0.000000</td>\n",
       "      <td>0.000000</td>\n",
       "      <td>-0.959394</td>\n",
       "      <td>-0.991658</td>\n",
       "      <td>-0.998305</td>\n",
       "      <td>-0.999656</td>\n",
       "      <td>-0.999930</td>\n",
       "      <td>-0.999986</td>\n",
       "      <td>...</td>\n",
       "      <td>0.000000</td>\n",
       "      <td>0.000000</td>\n",
       "      <td>0.000000</td>\n",
       "      <td>0.000000</td>\n",
       "      <td>0.000000</td>\n",
       "      <td>0.000000</td>\n",
       "      <td>0.000000</td>\n",
       "      <td>0.000000</td>\n",
       "      <td>0.000000</td>\n",
       "      <td>0.000000</td>\n",
       "    </tr>\n",
       "    <tr>\n",
       "      <th>2</th>\n",
       "      <td>-0.933941</td>\n",
       "      <td>0.00000</td>\n",
       "      <td>0.000000</td>\n",
       "      <td>0.000000</td>\n",
       "      <td>-0.992692</td>\n",
       "      <td>-0.999312</td>\n",
       "      <td>-0.999938</td>\n",
       "      <td>-0.999994</td>\n",
       "      <td>-1.000000</td>\n",
       "      <td>-1.000000</td>\n",
       "      <td>...</td>\n",
       "      <td>0.000000</td>\n",
       "      <td>0.000000</td>\n",
       "      <td>0.000000</td>\n",
       "      <td>0.000000</td>\n",
       "      <td>0.000000</td>\n",
       "      <td>0.000000</td>\n",
       "      <td>0.000000</td>\n",
       "      <td>0.000000</td>\n",
       "      <td>0.000000</td>\n",
       "      <td>0.000000</td>\n",
       "    </tr>\n",
       "    <tr>\n",
       "      <th>3</th>\n",
       "      <td>-0.747153</td>\n",
       "      <td>-0.43750</td>\n",
       "      <td>-0.602941</td>\n",
       "      <td>-0.706276</td>\n",
       "      <td>-0.927053</td>\n",
       "      <td>-0.980087</td>\n",
       "      <td>-0.994598</td>\n",
       "      <td>-0.998535</td>\n",
       "      <td>-0.999603</td>\n",
       "      <td>-0.999892</td>\n",
       "      <td>...</td>\n",
       "      <td>-0.965231</td>\n",
       "      <td>-0.979916</td>\n",
       "      <td>-0.988444</td>\n",
       "      <td>-0.897106</td>\n",
       "      <td>-0.966311</td>\n",
       "      <td>-0.989092</td>\n",
       "      <td>-0.996474</td>\n",
       "      <td>-0.998860</td>\n",
       "      <td>-0.999632</td>\n",
       "      <td>-0.999881</td>\n",
       "    </tr>\n",
       "    <tr>\n",
       "      <th>4</th>\n",
       "      <td>-0.842825</td>\n",
       "      <td>-0.18750</td>\n",
       "      <td>-0.500000</td>\n",
       "      <td>-0.899553</td>\n",
       "      <td>-0.968974</td>\n",
       "      <td>-0.994396</td>\n",
       "      <td>-0.999001</td>\n",
       "      <td>-0.999822</td>\n",
       "      <td>-0.999968</td>\n",
       "      <td>-0.999994</td>\n",
       "      <td>...</td>\n",
       "      <td>-0.928007</td>\n",
       "      <td>-0.953307</td>\n",
       "      <td>-0.969784</td>\n",
       "      <td>-0.982671</td>\n",
       "      <td>-0.997445</td>\n",
       "      <td>-0.999641</td>\n",
       "      <td>-0.999950</td>\n",
       "      <td>-0.999993</td>\n",
       "      <td>-0.999999</td>\n",
       "      <td>-1.000000</td>\n",
       "    </tr>\n",
       "  </tbody>\n",
       "</table>\n",
       "<p>5 rows × 32 columns</p>\n",
       "</div>"
      ],
      "text/plain": [
       "     budget  imdbRating  Metascore  imdbVotes  budget^2  budget^3  budget^4  \\\n",
       "0 -0.965831    -0.40625  -0.705882  -0.642623 -0.997258 -0.999822 -0.999989   \n",
       "1 -0.817044     0.00000   0.000000   0.000000 -0.959394 -0.991658 -0.998305   \n",
       "2 -0.933941     0.00000   0.000000   0.000000 -0.992692 -0.999312 -0.999938   \n",
       "3 -0.747153    -0.43750  -0.602941  -0.706276 -0.927053 -0.980087 -0.994598   \n",
       "4 -0.842825    -0.18750  -0.500000  -0.899553 -0.968974 -0.994396 -0.999001   \n",
       "\n",
       "   budget^5  budget^6  budget^7     ...       Metascore^6  Metascore^7  \\\n",
       "0 -0.999999 -1.000000 -1.000000     ...         -0.984981    -0.992366   \n",
       "1 -0.999656 -0.999930 -0.999986     ...          0.000000     0.000000   \n",
       "2 -0.999994 -1.000000 -1.000000     ...          0.000000     0.000000   \n",
       "3 -0.998535 -0.999603 -0.999892     ...         -0.965231    -0.979916   \n",
       "4 -0.999822 -0.999968 -0.999994     ...         -0.928007    -0.953307   \n",
       "\n",
       "   Metascore^8  imdbVotes^2  imdbVotes^3  imdbVotes^4  imdbVotes^5  \\\n",
       "0    -0.996146    -0.853883    -0.943360    -0.978216    -0.991630   \n",
       "1     0.000000     0.000000     0.000000     0.000000     0.000000   \n",
       "2     0.000000     0.000000     0.000000     0.000000     0.000000   \n",
       "3    -0.988444    -0.897106    -0.966311    -0.989092    -0.996474   \n",
       "4    -0.969784    -0.982671    -0.997445    -0.999641    -0.999950   \n",
       "\n",
       "   imdbVotes^6  imdbVotes^7  imdbVotes^8  \n",
       "0    -0.996784    -0.998765    -0.999525  \n",
       "1     0.000000     0.000000     0.000000  \n",
       "2     0.000000     0.000000     0.000000  \n",
       "3    -0.998860    -0.999632    -0.999881  \n",
       "4    -0.999993    -0.999999    -1.000000  \n",
       "\n",
       "[5 rows x 32 columns]"
      ]
     },
     "execution_count": 22,
     "metadata": {},
     "output_type": "execute_result"
    }
   ],
   "source": [
    "X.head()"
   ]
  },
  {
   "cell_type": "code",
   "execution_count": 20,
   "metadata": {},
   "outputs": [],
   "source": [
    "import sklearn.linear_model as lin"
   ]
  },
  {
   "cell_type": "code",
   "execution_count": 23,
   "metadata": {},
   "outputs": [
    {
     "data": {
      "text/plain": [
       "LinearRegression(copy_X=True, fit_intercept=True, n_jobs=1, normalize=False)"
      ]
     },
     "execution_count": 23,
     "metadata": {},
     "output_type": "execute_result"
    }
   ],
   "source": [
    "ols = lin.LinearRegression()\n",
    "ols.fit(X, y)\n"
   ]
  },
  {
   "cell_type": "code",
   "execution_count": 24,
   "metadata": {},
   "outputs": [
    {
     "data": {
      "text/plain": [
       "array([ 7.97376976e+04, -1.48055141e+08, -2.46919551e+05, -6.71838084e+05,\n",
       "       -2.74524866e+06,  2.58940018e+07, -1.14474909e+08,  2.74150425e+08,\n",
       "       -3.66447611e+08,  2.56817251e+08, -7.32779699e+07,  5.03419015e+08,\n",
       "       -4.08272464e+08, -3.18056986e+08,  3.91793637e+08,  3.74953334e+08,\n",
       "       -5.96120728e+08,  2.00338344e+08, -5.14427930e+06,  4.92020411e+07,\n",
       "       -1.81490814e+08,  3.58613155e+08, -4.01339720e+08,  2.40039920e+08,\n",
       "       -5.96713646e+07,  9.55240762e+06, -6.13799157e+07,  2.16523117e+08,\n",
       "       -4.44553150e+08,  5.27665904e+08, -3.34456769e+08,  8.73580329e+07])"
      ]
     },
     "execution_count": 24,
     "metadata": {},
     "output_type": "execute_result"
    }
   ],
   "source": [
    "ols.coef_"
   ]
  },
  {
   "cell_type": "code",
   "execution_count": 28,
   "metadata": {},
   "outputs": [
    {
     "data": {
      "text/plain": [
       "-1525.7136242448282"
      ]
     },
     "execution_count": 28,
     "metadata": {},
     "output_type": "execute_result"
    }
   ],
   "source": [
    "ols.intercept_"
   ]
  },
  {
   "cell_type": "code",
   "execution_count": 30,
   "metadata": {},
   "outputs": [
    {
     "data": {
      "text/plain": [
       "1.0"
      ]
     },
     "execution_count": 30,
     "metadata": {},
     "output_type": "execute_result"
    }
   ],
   "source": [
    "ols.score(X,y) #(return r2 score)"
   ]
  },
  {
   "cell_type": "markdown",
   "metadata": {},
   "source": [
    "### 4. Plot the model and the actual data on the Budget/Gross Domestic Product plane. (Remember this is just a slice of your n-dimensional space!)"
   ]
  },
  {
   "cell_type": "code",
   "execution_count": 35,
   "metadata": {},
   "outputs": [],
   "source": [
    "import matplotlib.pyplot as plt\n",
    "\n",
    "y_hat = ols.predict(X)\n",
    "df['predictions'] = y_hat"
   ]
  },
  {
   "cell_type": "code",
   "execution_count": 36,
   "metadata": {
    "scrolled": true
   },
   "outputs": [
    {
     "data": {
      "text/html": [
       "<div>\n",
       "<style scoped>\n",
       "    .dataframe tbody tr th:only-of-type {\n",
       "        vertical-align: middle;\n",
       "    }\n",
       "\n",
       "    .dataframe tbody tr th {\n",
       "        vertical-align: top;\n",
       "    }\n",
       "\n",
       "    .dataframe thead th {\n",
       "        text-align: right;\n",
       "    }\n",
       "</style>\n",
       "<table border=\"1\" class=\"dataframe\">\n",
       "  <thead>\n",
       "    <tr style=\"text-align: right;\">\n",
       "      <th></th>\n",
       "      <th>budget</th>\n",
       "      <th>domgross</th>\n",
       "      <th>title</th>\n",
       "      <th>Response_Json</th>\n",
       "      <th>Year</th>\n",
       "      <th>imdbRating</th>\n",
       "      <th>Metascore</th>\n",
       "      <th>imdbVotes</th>\n",
       "      <th>predictions</th>\n",
       "    </tr>\n",
       "  </thead>\n",
       "  <tbody>\n",
       "    <tr>\n",
       "      <th>0</th>\n",
       "      <td>13.000000</td>\n",
       "      <td>25.682380</td>\n",
       "      <td>21 &amp;amp; Over</td>\n",
       "      <td>NaN</td>\n",
       "      <td>2008.0</td>\n",
       "      <td>6.8</td>\n",
       "      <td>48.0</td>\n",
       "      <td>206513.0</td>\n",
       "      <td>25.682380</td>\n",
       "    </tr>\n",
       "    <tr>\n",
       "      <th>1</th>\n",
       "      <td>45.658735</td>\n",
       "      <td>13.414714</td>\n",
       "      <td>Dredd 3D</td>\n",
       "      <td>NaN</td>\n",
       "      <td>2012.0</td>\n",
       "      <td>NaN</td>\n",
       "      <td>NaN</td>\n",
       "      <td>NaN</td>\n",
       "      <td>13.414715</td>\n",
       "    </tr>\n",
       "    <tr>\n",
       "      <th>2</th>\n",
       "      <td>20.000000</td>\n",
       "      <td>53.107035</td>\n",
       "      <td>12 Years a Slave</td>\n",
       "      <td>NaN</td>\n",
       "      <td>2013.0</td>\n",
       "      <td>8.1</td>\n",
       "      <td>96.0</td>\n",
       "      <td>537525.0</td>\n",
       "      <td>53.107036</td>\n",
       "    </tr>\n",
       "    <tr>\n",
       "      <th>3</th>\n",
       "      <td>61.000000</td>\n",
       "      <td>75.612460</td>\n",
       "      <td>2 Guns</td>\n",
       "      <td>NaN</td>\n",
       "      <td>2013.0</td>\n",
       "      <td>6.7</td>\n",
       "      <td>55.0</td>\n",
       "      <td>173726.0</td>\n",
       "      <td>75.612460</td>\n",
       "    </tr>\n",
       "    <tr>\n",
       "      <th>4</th>\n",
       "      <td>40.000000</td>\n",
       "      <td>95.020213</td>\n",
       "      <td>42</td>\n",
       "      <td>NaN</td>\n",
       "      <td>2013.0</td>\n",
       "      <td>7.5</td>\n",
       "      <td>62.0</td>\n",
       "      <td>74170.0</td>\n",
       "      <td>95.020213</td>\n",
       "    </tr>\n",
       "  </tbody>\n",
       "</table>\n",
       "</div>"
      ],
      "text/plain": [
       "      budget   domgross             title  Response_Json    Year  imdbRating  \\\n",
       "0  13.000000  25.682380     21 &amp; Over            NaN  2008.0         6.8   \n",
       "1  45.658735  13.414714          Dredd 3D            NaN  2012.0         NaN   \n",
       "2  20.000000  53.107035  12 Years a Slave            NaN  2013.0         8.1   \n",
       "3  61.000000  75.612460            2 Guns            NaN  2013.0         6.7   \n",
       "4  40.000000  95.020213                42            NaN  2013.0         7.5   \n",
       "\n",
       "   Metascore  imdbVotes  predictions  \n",
       "0       48.0   206513.0    25.682380  \n",
       "1        NaN        NaN    13.414715  \n",
       "2       96.0   537525.0    53.107036  \n",
       "3       55.0   173726.0    75.612460  \n",
       "4       62.0    74170.0    95.020213  "
      ]
     },
     "execution_count": 36,
     "metadata": {},
     "output_type": "execute_result"
    }
   ],
   "source": [
    "df.head()"
   ]
  },
  {
   "cell_type": "code",
   "execution_count": 45,
   "metadata": {},
   "outputs": [],
   "source": [
    "def rss(y, y_hat):\n",
    "    return sum((y_hat - y)**2)"
   ]
  },
  {
   "cell_type": "code",
   "execution_count": 46,
   "metadata": {
    "scrolled": true
   },
   "outputs": [
    {
     "name": "stdout",
     "output_type": "stream",
     "text": [
      "6.2120592773208645e-12\n"
     ]
    },
    {
     "data": {
      "image/png": "[encoded data removed]",
      "text/plain": [
       "<Figure size 432x288 with 1 Axes>"
      ]
     },
     "metadata": {},
     "output_type": "display_data"
    }
   ],
   "source": [
    "plt.scatter(df['budget'], df['domgross'], color='blue', label='Data') #these are all the same because the model is overfitted\n",
    "plt.scatter(df['budget'], df['predictions'], color='red', label='predicted')\n",
    "plt.legend()\n",
    "print(rss(df.domgross, df.predictions)) #basically no error"
   ]
  },
  {
   "cell_type": "markdown",
   "metadata": {},
   "source": [
    "### 5. What do you notice?"
   ]
  },
  {
   "cell_type": "markdown",
   "metadata": {},
   "source": [
    "#Your response here \n",
    "\n",
    "Note: This box (like all the questions and headers) is formatted in Markdown. See a brief cheat sheet of [markdown syntax here](https://guides.github.com/pdfs/markdown-cheatsheet-online.pdf)!"
   ]
  },
  {
   "cell_type": "markdown",
   "metadata": {},
   "source": [
    "## Train Test Split\n",
    "\n",
    "Here lies the theoretical underpinnings for train test split. Essentially, we are trying to gauge the generalization error of our currently tuned model to future cases. (After all, that's the value of predictive models; to predict fturue states or occurences! By initially dividing our data into one set that we will optimize and train our models on, and a second hold out set that we later verify our models on but never tune them against, we can better judge how well our models will generalize to future cases outside of the scope of current observations."
   ]
  },
  {
   "cell_type": "markdown",
   "metadata": {},
   "source": [
    "### 6. Split your data (including all of those feature engineered columns) into two sets; train and test. In other words, instead of simply X and respective Y datasets, you will now have 4 subsets: X_train, y_train, X_test, and y_test."
   ]
  },
  {
   "cell_type": "code",
   "execution_count": null,
   "metadata": {},
   "outputs": [],
   "source": [
    "X_train, X_test, y_train, y_test = #Your code here"
   ]
  },
  {
   "cell_type": "markdown",
   "metadata": {},
   "source": [
    "### 7. Train your model on the train set. [As before use RSS and gradient descent, but only use the training data.]"
   ]
  },
  {
   "cell_type": "code",
   "execution_count": null,
   "metadata": {},
   "outputs": [],
   "source": [
    "#Your code here"
   ]
  },
  {
   "cell_type": "markdown",
   "metadata": {},
   "source": [
    "### 8. Evaluate your model on the test set."
   ]
  },
  {
   "cell_type": "code",
   "execution_count": null,
   "metadata": {},
   "outputs": [],
   "source": [
    "#Your code here"
   ]
  },
  {
   "cell_type": "markdown",
   "metadata": {},
   "source": [
    "## Bonus:   \n",
    "### Iterate over training size sets from 5%-95% of the total sample size and calculate both the training error (minimized rss) and the test error (rss) for each of these splits. Plot these two curves (train error vs. training size and test error vs. training size) on a graph. "
   ]
  },
  {
   "cell_type": "code",
   "execution_count": null,
   "metadata": {},
   "outputs": [],
   "source": []
  }
 ],
 "metadata": {
  "kernelspec": {
   "display_name": "Python 3",
   "language": "python",
   "name": "python3"
  },
  "language_info": {
   "codemirror_mode": {
    "name": "ipython",
    "version": 3
   },
   "file_extension": ".py",
   "mimetype": "text/x-python",
   "name": "python",
   "nbconvert_exporter": "python",
   "pygments_lexer": "ipython3",
   "version": "3.6.5"
  }
 },
 "nbformat": 4,
 "nbformat_minor": 2
}
